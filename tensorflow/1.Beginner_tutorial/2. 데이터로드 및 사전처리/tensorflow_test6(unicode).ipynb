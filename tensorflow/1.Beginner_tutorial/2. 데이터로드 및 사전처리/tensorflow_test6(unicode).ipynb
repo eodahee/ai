{
 "cells": [
  {
   "cell_type": "markdown",
   "metadata": {},
   "source": [
    "# 데이터 로드 및 사전처리\n",
    "## 6. unicode 데이터 로드\n",
    "#### 참고사이트 : https://www.tensorflow.org/tutorials/load_data/unicode?hl=ko"
   ]
  },
  {
   "cell_type": "code",
   "execution_count": 1,
   "metadata": {},
   "outputs": [],
   "source": [
    "from __future__ import absolute_import, division, print_function, unicode_literals\n",
    "\n",
    "import tensorflow as tf"
   ]
  },
  {
   "cell_type": "code",
   "execution_count": 2,
   "metadata": {},
   "outputs": [
    {
     "data": {
      "text/plain": [
       "<tf.Tensor: id=0, shape=(), dtype=string, numpy=b'Thanks \\xf0\\x9f\\x98\\x8a'>"
      ]
     },
     "execution_count": 2,
     "metadata": {},
     "output_type": "execute_result"
    }
   ],
   "source": [
    "# tf.string 데이터 타입\n",
    "# tensorflow의 dtype은 byte 문자열로 이루어진 tensor 생성되며,\n",
    "# 유니코드 문자열은 기본적으로 utf-8로 인코딩.\n",
    "tf.constant(u\"Thanks 😊\")"
   ]
  },
  {
   "cell_type": "code",
   "execution_count": 3,
   "metadata": {},
   "outputs": [
    {
     "data": {
      "text/plain": [
       "TensorShape([2])"
      ]
     },
     "execution_count": 3,
     "metadata": {},
     "output_type": "execute_result"
    }
   ],
   "source": [
    "tf.constant([u\"You're\", u\"welcome!\"]).shape"
   ]
  },
  {
   "cell_type": "code",
   "execution_count": 7,
   "metadata": {},
   "outputs": [
    {
     "name": "stdout",
     "output_type": "stream",
     "text": [
      "tf.Tensor(b'\\xe8\\xaf\\xad\\xe8\\xa8\\x80\\xe5\\xa4\\x84\\xe7\\x90\\x86', shape=(), dtype=string)\n",
      "tf.Tensor(b'\\x8b\\xed\\x8a\\x00Y\\x04t\\x06', shape=(), dtype=string)\n",
      "tf.Tensor([35821 35328 22788 29702], shape=(4,), dtype=int32)\n"
     ]
    }
   ],
   "source": [
    "# 유니코드 표현\n",
    "# 1) string 스칼라 = 문자 인코딩을 사용해 인코딩\n",
    "# 2) int32 벡터 = 위치마다 개별 코드 포인트를 포함\n",
    "# 아래 3가지 값이 모두 중국어로 '언어처리'를 의미\n",
    "\n",
    "text_utf8 = tf.constant(u\"语言处理\") # UTF-8로 인코딩된 string 스칼라로 표현한 유니코드 문자열\n",
    "print(text_utf8)\n",
    "\n",
    "text_utf16be = tf.constant(u\"语言处理\".encode(\"UTF-16-BE\")) # UTF-16-BE로 인코딩된 string 스칼라로 표현한 유니코드 문자열\n",
    "print(text_utf16be)\n",
    "\n",
    "text_chars = tf.constant([ord(char) for char in u\"语言处理\"]) # 유니코드 코드 포인트의 벡터로 표현한 유니코드 문자열\n",
    "print(text_chars)"
   ]
  },
  {
   "cell_type": "code",
   "execution_count": 11,
   "metadata": {},
   "outputs": [
    {
     "name": "stdout",
     "output_type": "stream",
     "text": [
      "tf.Tensor([35821 35328 22788 29702], shape=(4,), dtype=int32)\n",
      "tf.Tensor(b'\\xe8\\xaf\\xad\\xe8\\xa8\\x80\\xe5\\xa4\\x84\\xe7\\x90\\x86', shape=(), dtype=string)\n",
      "tf.Tensor(b'\\x8b\\xed\\x8a\\x00Y\\x04t\\x06', shape=(), dtype=string)\n"
     ]
    }
   ],
   "source": [
    "# 표현 간의 변환\n",
    "# 1) tf.strings.unicode_decode: 인코딩된 string 스칼라를 코드 포인트의 벡터로 변환\n",
    "# 2) tf.strings.unicode_encode: 코드 포인트의 벡터를 인코드된 string 스칼라로 변환\n",
    "# 3) tf.strings.unicode_transcode: 인코드된 string 스칼라를 다른 인코딩으로 변환\n",
    "print(tf.strings.unicode_decode(text_utf8, input_encoding='UTF-8'))\n",
    "print(tf.strings.unicode_encode(text_chars, output_encoding='UTF-8'))\n",
    "print(tf.strings.unicode_transcode(text_utf8, input_encoding='UTF8', output_encoding='UTF-16-BE'))"
   ]
  },
  {
   "cell_type": "code",
   "execution_count": 12,
   "metadata": {},
   "outputs": [
    {
     "name": "stdout",
     "output_type": "stream",
     "text": [
      "[104, 195, 108, 108, 111]\n",
      "[87, 104, 97, 116, 32, 105, 115, 32, 116, 104, 101, 32, 119, 101, 97, 116, 104, 101, 114, 32, 116, 111, 109, 111, 114, 114, 111, 119]\n",
      "[71, 246, 246, 100, 110, 105, 103, 104, 116]\n",
      "[128522]\n"
     ]
    }
   ],
   "source": [
    "# Batch demension\n",
    "# UTF-8 인코딩된 문자열로 표현한 유니코드 문자열의 배치\n",
    "batch_utf8 = [s.encode('UTF-8') for s in\n",
    "              [u'hÃllo', u'What is the weather tomorrow', u'Göödnight', u'😊']]\n",
    "batch_chars_ragged = tf.strings.unicode_decode(batch_utf8, input_encoding='UTF-8')\n",
    "for sentence_chars in batch_chars_ragged.to_list():\n",
    "    print(sentence_chars)"
   ]
  },
  {
   "cell_type": "code",
   "execution_count": 15,
   "metadata": {},
   "outputs": [
    {
     "name": "stdout",
     "output_type": "stream",
     "text": [
      "[[   104    195    108    108    111     -1     -1     -1     -1     -1\n",
      "      -1     -1     -1     -1     -1     -1     -1     -1     -1     -1\n",
      "      -1     -1     -1     -1     -1     -1     -1     -1]\n",
      " [    87    104     97    116     32    105    115     32    116    104\n",
      "     101     32    119    101     97    116    104    101    114     32\n",
      "     116    111    109    111    114    114    111    119]\n",
      " [    71    246    246    100    110    105    103    104    116     -1\n",
      "      -1     -1     -1     -1     -1     -1     -1     -1     -1     -1\n",
      "      -1     -1     -1     -1     -1     -1     -1     -1]\n",
      " [128522     -1     -1     -1     -1     -1     -1     -1     -1     -1\n",
      "      -1     -1     -1     -1     -1     -1     -1     -1     -1     -1\n",
      "      -1     -1     -1     -1     -1     -1     -1     -1]]\n"
     ]
    }
   ],
   "source": [
    "batch_chars_padded = batch_chars_ragged.to_tensor(default_value=-1)\n",
    "print(batch_chars_padded.numpy())"
   ]
  },
  {
   "cell_type": "code",
   "execution_count": 16,
   "metadata": {},
   "outputs": [],
   "source": [
    "# sparse는 희소 tensor를 의미\n",
    "batch_chars_sparse = batch_chars_ragged.to_sparse()"
   ]
  },
  {
   "cell_type": "code",
   "execution_count": 17,
   "metadata": {},
   "outputs": [
    {
     "data": {
      "text/plain": [
       "<tf.Tensor: id=275, shape=(3,), dtype=string, numpy=array([b'cat', b'dog', b'cow'], dtype=object)>"
      ]
     },
     "execution_count": 17,
     "metadata": {},
     "output_type": "execute_result"
    }
   ],
   "source": [
    "# vector를 scalar로 변환(숫자 -> 문자)\n",
    "tf.strings.unicode_encode([[99, 97, 116], [100, 111, 103], [ 99, 111, 119]],\n",
    "                          output_encoding='UTF-8')"
   ]
  },
  {
   "cell_type": "code",
   "execution_count": 18,
   "metadata": {},
   "outputs": [
    {
     "data": {
      "text/plain": [
       "<tf.Tensor: id=276, shape=(4,), dtype=string, numpy=\n",
       "array([b'h\\xc3\\x83llo', b'What is the weather tomorrow',\n",
       "       b'G\\xc3\\xb6\\xc3\\xb6dnight', b'\\xf0\\x9f\\x98\\x8a'], dtype=object)>"
      ]
     },
     "execution_count": 18,
     "metadata": {},
     "output_type": "execute_result"
    }
   ],
   "source": [
    "tf.strings.unicode_encode(batch_chars_ragged, output_encoding='UTF-8') # 숫자를 문자로"
   ]
  },
  {
   "cell_type": "code",
   "execution_count": 19,
   "metadata": {},
   "outputs": [
    {
     "data": {
      "text/plain": [
       "<tf.Tensor: id=355, shape=(4,), dtype=string, numpy=\n",
       "array([b'h\\xc3\\x83llo', b'What is the weather tomorrow',\n",
       "       b'G\\xc3\\xb6\\xc3\\xb6dnight', b'\\xf0\\x9f\\x98\\x8a'], dtype=object)>"
      ]
     },
     "execution_count": 19,
     "metadata": {},
     "output_type": "execute_result"
    }
   ],
   "source": [
    "# 길이가 다른 여러 문자열을 인코딩 할 때는 tf.RaggedTensor(비정형 텐서)로 바꿔주기\n",
    "# 예를 들면 패딩 또는 sparse(희소, 드문) tensor를 의미\n",
    "tf.strings.unicode_encode(\n",
    "    tf.RaggedTensor.from_sparse(batch_chars_sparse),\n",
    "    output_encoding='UTF-8')"
   ]
  },
  {
   "cell_type": "code",
   "execution_count": 20,
   "metadata": {},
   "outputs": [
    {
     "data": {
      "text/plain": [
       "<tf.Tensor: id=428, shape=(4,), dtype=string, numpy=\n",
       "array([b'h\\xc3\\x83llo', b'What is the weather tomorrow',\n",
       "       b'G\\xc3\\xb6\\xc3\\xb6dnight', b'\\xf0\\x9f\\x98\\x8a'], dtype=object)>"
      ]
     },
     "execution_count": 20,
     "metadata": {},
     "output_type": "execute_result"
    }
   ],
   "source": [
    "tf.strings.unicode_encode(\n",
    "    tf.RaggedTensor.from_tensor(batch_chars_padded, padding=-1),\n",
    "    output_encoding='UTF-8')"
   ]
  },
  {
   "cell_type": "code",
   "execution_count": 23,
   "metadata": {},
   "outputs": [
    {
     "name": "stdout",
     "output_type": "stream",
     "text": [
      "11 바이트; 8개의 UTF-8 문자\n"
     ]
    }
   ],
   "source": [
    "# 유니코드 연산\n",
    "# 길이 = tf.strings.length 연산은 unit 인자를 가짐(기본은 byte이지만, utf8_char이나 utf16_char으로 변환 가능)\n",
    "\n",
    "thanks = u'Thanks 😊'.encode('UTF-8') # UTF8에서 이모티콘은 4바이트를 차지\n",
    "num_bytes = tf.strings.length(thanks).numpy() # 띄어쓰기 포함 6 + 1 + 4 = 11bytes\n",
    "num_chars = tf.strings.length(thanks, unit='UTF8_CHAR').numpy()\n",
    "print('{} 바이트; {}개의 UTF-8 문자'.format(num_bytes, num_chars))"
   ]
  },
  {
   "cell_type": "code",
   "execution_count": 28,
   "metadata": {},
   "outputs": [
    {
     "data": {
      "text/plain": [
       "b'\\xf0'"
      ]
     },
     "execution_count": 28,
     "metadata": {},
     "output_type": "execute_result"
    }
   ],
   "source": [
    "# substring(매개변수, pos, len) -> 매개변수의 pos 위치로부터 len개 만큼의 bytes 반환\n",
    "# tf.strings.substr 연산은 unit 매개변수를 사용해 pos와 len으로 컨트롤\n",
    "tf.strings.substr(thanks, pos=7, len=1).numpy() # 기본: unit='BYTE' / len=1이면 바이트 하나 반환"
   ]
  },
  {
   "cell_type": "code",
   "execution_count": 29,
   "metadata": {},
   "outputs": [
    {
     "name": "stdout",
     "output_type": "stream",
     "text": [
      "b'\\xf0\\x9f\\x98\\x8a'\n"
     ]
    }
   ],
   "source": [
    "# unit='UTF8_CHAR'로 지정하면 4 바이트인 문자 하나 반환\n",
    "print(tf.strings.substr(thanks, pos=7, len=1, unit='UTF8_CHAR').numpy())"
   ]
  },
  {
   "cell_type": "code",
   "execution_count": 32,
   "metadata": {},
   "outputs": [
    {
     "data": {
      "text/plain": [
       "array([b'T', b'h', b'a', b'n', b'k', b's', b' ', b'\\xf0\\x9f\\x98\\x8a'],\n",
       "      dtype=object)"
      ]
     },
     "execution_count": 32,
     "metadata": {},
     "output_type": "execute_result"
    }
   ],
   "source": [
    "# unicode 문자열 분리(split 함수 활용)\n",
    "tf.strings.unicode_split(thanks, 'UTF-8').numpy()"
   ]
  },
  {
   "cell_type": "code",
   "execution_count": 33,
   "metadata": {},
   "outputs": [
    {
     "name": "stdout",
     "output_type": "stream",
     "text": [
      "바이트 오프셋 0: 코드 포인트 127880\n",
      "바이트 오프셋 4: 코드 포인트 127881\n",
      "바이트 오프셋 8: 코드 포인트 127882\n"
     ]
    }
   ],
   "source": [
    "# offset(상대주소)\n",
    "# tf.strings.unicode_decode로 만든(문자->숫자) tensor를 맞추려면 각 문자의 시작위치 offset을 알아야 함.\n",
    "# tf.strings.unicode_decode_with_offsets은 unicode_decode와 비슷하지만 각 문자의 시작 오프셋을 포함한 두 번째 텐서를 반환\n",
    "codepoints, offsets = tf.strings.unicode_decode_with_offsets(u\"🎈🎉🎊\", 'UTF-8')\n",
    "\n",
    "for (codepoint, offset) in zip(codepoints.numpy(), offsets.numpy()):\n",
    "    print(\"바이트 오프셋 {}: 코드 포인트 {}\".format(offset, codepoint))"
   ]
  },
  {
   "cell_type": "code",
   "execution_count": 34,
   "metadata": {},
   "outputs": [
    {
     "name": "stdout",
     "output_type": "stream",
     "text": [
      "[17  8]\n"
     ]
    }
   ],
   "source": [
    "# unicode script\n",
    "# 각 unicode의 codepoint는 script라 부르는 하나의 코드포인트 집합에 속함.\n",
    "# 문자의 script는 어떤 언어인지 맞추는데 도움\n",
    "# ex)  'Б'가 키릴(Cyrillic) 스크립트라는 것을 알고 있으면 이 문자가 포함된 텍스트는 (러시아어나 우크라이나어 같은) 슬라브 언어라는 것을 알 수 있음\n",
    "uscript = tf.strings.unicode_script([33464, 1041])  # ['芸', 'Б']\n",
    "\n",
    "print(uscript.numpy())  # [17, 8] == [USCRIPT_HAN, USCRIPT_CYRILLIC]"
   ]
  },
  {
   "cell_type": "code",
   "execution_count": 35,
   "metadata": {},
   "outputs": [
    {
     "name": "stdout",
     "output_type": "stream",
     "text": [
      "<tf.RaggedTensor [[25, 25, 25, 25, 25], [25, 25, 25, 25, 0, 25, 25, 0, 25, 25, 25, 0, 25, 25, 25, 25, 25, 25, 25, 0, 25, 25, 25, 25, 25, 25, 25, 25], [25, 25, 25, 25, 25, 25, 25, 25, 25], [0]]>\n"
     ]
    }
   ],
   "source": [
    "# script 연산은 코드포인트의 다차원(tf.Tensor나 tf.RaggedTensor)에 적용 가능\n",
    "print(tf.strings.unicode_script(batch_chars_ragged))"
   ]
  },
  {
   "cell_type": "markdown",
   "metadata": {},
   "source": [
    "### 예제 = 간단한 segmentaion(분할)\n",
    "\n",
    "**분할(segmentation)** 은 텍스트를 단어와 같은 단위로 나누는 작업.   \n",
    "공백 문자가 단어를 나누는 구분자로 사용되는 경우는 쉽지만, 중국어나 일본어처럼 공백을 사용하지 않는 언어나 독일어 처럼 단어를 길게 조합하는 언어는 의미를 분석하기 위한 분할 과정이 꼭 필요.   \n",
    "웹 텍스트에는 \"NY株価\"(New York Stock Exchange)처럼 여러 가지 언어와 스크립트가 섞여 있는 경우가 많음.\n",
    "\n",
    "script의 변화를 단어 경계로 근사하여 ML 모델 사용 없이 대략적인 segmentation을 수행할 수 있음.   \n",
    "위에서 언급된 \"NY株価\"의 예와 같은 문자열에 적용됨.   \n",
    "다양한 스크립트의 공백 문자를 모두 USCRIPT_COMMON(실제 텍스트의 스크립트 코드와 다른 특별한 스크립트 코드)으로 분류하기 때문에 공백을 사용하는 대부분의 언어들에도 적용 가능!"
   ]
  },
  {
   "cell_type": "code",
   "execution_count": 43,
   "metadata": {},
   "outputs": [],
   "source": [
    "# dtype: string; shape: [num_sentences]\n",
    "sentence_texts = [u'Hello, world.', u'世界こんにちは', u'안녕하세요 반갑습니다!']"
   ]
  },
  {
   "cell_type": "code",
   "execution_count": 44,
   "metadata": {},
   "outputs": [
    {
     "name": "stdout",
     "output_type": "stream",
     "text": [
      "<tf.RaggedTensor [[72, 101, 108, 108, 111, 44, 32, 119, 111, 114, 108, 100, 46], [19990, 30028, 12371, 12435, 12395, 12385, 12399], [50504, 45397, 54616, 49464, 50836, 32, 48152, 44049, 49845, 45768, 45796, 33]]>\n",
      "<tf.RaggedTensor [[25, 25, 25, 25, 25, 0, 0, 25, 25, 25, 25, 25, 0], [17, 17, 20, 20, 20, 20, 20], [18, 18, 18, 18, 18, 0, 18, 18, 18, 18, 18, 0]]>\n"
     ]
    }
   ],
   "source": [
    "# 위의 문장으로 codepoint로 decode하고, 각 문자에 대한 script 식별자 찾기\n",
    "\n",
    "# dtype: int32; shape: [num_sentences, (num_chars_per_sentence)]\n",
    "#\n",
    "# sentence_char_codepoint[i, j]는\n",
    "# i번째 문장 안에 있는 j번째 문자에 대한 코드 포인트 입니다.\n",
    "sentence_char_codepoint = tf.strings.unicode_decode(sentence_texts, 'UTF-8')\n",
    "print(sentence_char_codepoint)\n",
    "\n",
    "# dtype: int32; shape: [num_sentences, (num_chars_per_sentence)]\n",
    "#\n",
    "# sentence_char_codepoint[i, j]는 \n",
    "# i번째 문장 안에 있는 j번째 문자의 유니코드 스크립트 입니다.\n",
    "sentence_char_script = tf.strings.unicode_script(sentence_char_codepoint) \n",
    "print(sentence_char_script) # 한국어의 unicode script는 18인듯"
   ]
  },
  {
   "cell_type": "code",
   "execution_count": 45,
   "metadata": {},
   "outputs": [
    {
     "name": "stdout",
     "output_type": "stream",
     "text": [
      "tf.Tensor([ 0  5  7 12 13 15 20 25 26 31], shape=(10,), dtype=int64)\n"
     ]
    }
   ],
   "source": [
    "# script 식별자를 통해 단어 경계를 추가 할 위치 결정\n",
    "# 각 문장의 시작과 이전 문자의 script가 다른 문자에 경계 추가\n",
    "\n",
    "# dtype: bool; shape: [num_sentences, (num_chars_per_sentence)]\n",
    "#\n",
    "# sentence_char_starts_word[i, j]는 \n",
    "# i번째 문장 안에 있는 j번째 문자가 단어의 시작이면 True 입니다.\n",
    "sentence_char_starts_word = tf.concat(\n",
    "    [tf.fill([sentence_char_script.nrows(), 1], True),\n",
    "     tf.not_equal(sentence_char_script[:, 1:], sentence_char_script[:, :-1])],\n",
    "    axis=1)\n",
    "\n",
    "# dtype: int64; shape: [num_words]\n",
    "#\n",
    "# word_starts[i]은 (모든 문장의 문자를 일렬로 펼친 리스트에서)\n",
    "# i번째 단어가 시작되는 문자의 인덱스 입니다.\n",
    "word_starts = tf.squeeze(tf.where(sentence_char_starts_word.values), axis=1)\n",
    "print(word_starts) # , . (띄어쓰기) ! 등"
   ]
  },
  {
   "cell_type": "code",
   "execution_count": 46,
   "metadata": {},
   "outputs": [
    {
     "name": "stdout",
     "output_type": "stream",
     "text": [
      "<tf.RaggedTensor [[72, 101, 108, 108, 111], [44, 32], [119, 111, 114, 108, 100], [46], [19990, 30028], [12371, 12435, 12395, 12385, 12399], [50504, 45397, 54616, 49464, 50836], [32], [48152, 44049, 49845, 45768, 45796], [33]]>\n"
     ]
    }
   ],
   "source": [
    "# 위에서 나온 시작 offset을 사용해 전체 batch에 있는 단어 list를 담은 RaggedTensor(비정형) 생성\n",
    "\n",
    "# dtype: int32; shape: [num_words, (num_chars_per_word)]\n",
    "#\n",
    "# word_char_codepoint[i, j]은 \n",
    "# i번째 단어 안에 있는 j번째 문자에 대한 코드 포인트 입니다.\n",
    "word_char_codepoint = tf.RaggedTensor.from_row_starts(\n",
    "    values=sentence_char_codepoint.values,\n",
    "    row_starts=word_starts)\n",
    "print(word_char_codepoint)"
   ]
  },
  {
   "cell_type": "code",
   "execution_count": 47,
   "metadata": {},
   "outputs": [
    {
     "name": "stdout",
     "output_type": "stream",
     "text": [
      "<tf.RaggedTensor [[[72, 101, 108, 108, 111], [44, 32], [119, 111, 114, 108, 100], [46]], [[19990, 30028], [12371, 12435, 12395, 12385, 12399]], [[50504, 45397, 54616, 49464, 50836], [32], [48152, 44049, 49845, 45768, 45796], [33]]]>\n"
     ]
    }
   ],
   "source": [
    "# 마지막으로 codepoint RaggedTensor를 문장으로 다시 나누기\n",
    "\n",
    "# dtype: int64; shape: [num_sentences]\n",
    "#\n",
    "# sentence_num_words[i]는 i번째 문장 안에 있는 단어의 수입니다.\n",
    "sentence_num_words = tf.reduce_sum(\n",
    "    tf.cast(sentence_char_starts_word, tf.int64),\n",
    "    axis=1)\n",
    "\n",
    "# dtype: int32; shape: [num_sentences, (num_words_per_sentence), (num_chars_per_word)]\n",
    "#\n",
    "# sentence_word_char_codepoint[i, j, k]는 i번째 문장 안에 있는\n",
    "# j번째 단어 안의 k번째 문자에 대한 코드 포인트입니다.\n",
    "sentence_word_char_codepoint = tf.RaggedTensor.from_row_lengths(\n",
    "    values=word_char_codepoint,\n",
    "    row_lengths=sentence_num_words)\n",
    "print(sentence_word_char_codepoint)"
   ]
  },
  {
   "cell_type": "code",
   "execution_count": 48,
   "metadata": {},
   "outputs": [
    {
     "data": {
      "text/plain": [
       "[[b'Hello', b', ', b'world', b'.'],\n",
       " [b'\\xe4\\xb8\\x96\\xe7\\x95\\x8c',\n",
       "  b'\\xe3\\x81\\x93\\xe3\\x82\\x93\\xe3\\x81\\xab\\xe3\\x81\\xa1\\xe3\\x81\\xaf'],\n",
       " [b'\\xec\\x95\\x88\\xeb\\x85\\x95\\xed\\x95\\x98\\xec\\x84\\xb8\\xec\\x9a\\x94',\n",
       "  b' ',\n",
       "  b'\\xeb\\xb0\\x98\\xea\\xb0\\x91\\xec\\x8a\\xb5\\xeb\\x8b\\x88\\xeb\\x8b\\xa4',\n",
       "  b'!']]"
      ]
     },
     "execution_count": 48,
     "metadata": {},
     "output_type": "execute_result"
    }
   ],
   "source": [
    "# 최종 결과를 읽기 쉽게 utf-8 문자열로 인코딩(숫자->문자)\n",
    "tf.strings.unicode_encode(sentence_word_char_codepoint, 'UTF-8').to_list()"
   ]
  }
 ],
 "metadata": {
  "kernelspec": {
   "display_name": "Python 3",
   "language": "python",
   "name": "python3"
  },
  "language_info": {
   "codemirror_mode": {
    "name": "ipython",
    "version": 3
   },
   "file_extension": ".py",
   "mimetype": "text/x-python",
   "name": "python",
   "nbconvert_exporter": "python",
   "pygments_lexer": "ipython3",
   "version": "3.6.9"
  }
 },
 "nbformat": 4,
 "nbformat_minor": 4
}

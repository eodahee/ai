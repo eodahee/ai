{
 "cells": [
  {
   "cell_type": "markdown",
   "metadata": {},
   "source": [
    "# 데이터 로드 및 사전처리\n",
    "## 1. CSV 데이터 로드\n",
    "#### 참고사이트 : https://www.tensorflow.org/tutorials/load_data/csv?hl=ko"
   ]
  },
  {
   "cell_type": "code",
   "execution_count": 8,
   "metadata": {},
   "outputs": [],
   "source": [
    "import functools\n",
    "\n",
    "import numpy as np\n",
    "import tensorflow as tf"
   ]
  },
  {
   "cell_type": "code",
   "execution_count": 9,
   "metadata": {},
   "outputs": [],
   "source": [
    "TRAIN_DATA_URL = \"https://storage.googleapis.com/tf-datasets/titanic/train.csv\"\n",
    "TEST_DATA_URL = \"https://storage.googleapis.com/tf-datasets/titanic/eval.csv\"\n",
    "\n",
    "train_file_path = tf.keras.utils.get_file(\"train.csv\", TRAIN_DATA_URL)\n",
    "test_file_path = tf.keras.utils.get_file(\"eval.csv\", TEST_DATA_URL)"
   ]
  },
  {
   "cell_type": "code",
   "execution_count": 10,
   "metadata": {},
   "outputs": [],
   "source": [
    "# Make numpy values easier to read.\n",
    "np.set_printoptions(precision=3, suppress=True)"
   ]
  },
  {
   "cell_type": "code",
   "execution_count": 11,
   "metadata": {},
   "outputs": [
    {
     "name": "stdout",
     "output_type": "stream",
     "text": [
      "survived,sex,age,n_siblings_spouses,parch,fare,class,deck,embark_town,alone\r\n",
      "0,male,22.0,1,0,7.25,Third,unknown,Southampton,n\r\n",
      "1,female,38.0,1,0,71.2833,First,C,Cherbourg,n\r\n",
      "1,female,26.0,0,0,7.925,Third,unknown,Southampton,y\r\n",
      "1,female,35.0,1,0,53.1,First,C,Southampton,n\r\n",
      "0,male,28.0,0,0,8.4583,Third,unknown,Queenstown,y\r\n",
      "0,male,2.0,3,1,21.075,Third,unknown,Southampton,n\r\n",
      "1,female,27.0,0,2,11.1333,Third,unknown,Southampton,n\r\n",
      "1,female,14.0,1,0,30.0708,Second,unknown,Cherbourg,n\r\n",
      "1,female,4.0,1,1,16.7,Third,G,Southampton,n\r\n"
     ]
    }
   ],
   "source": [
    "# get_file을 통해 저장되는 위치는 ~/.keras/datasets/\n",
    "# csv 파일의 상단(head) 을 보고 형식이 어떻게 지정되었는지 확인\n",
    "!head {train_file_path} "
   ]
  },
  {
   "cell_type": "code",
   "execution_count": 12,
   "metadata": {},
   "outputs": [],
   "source": [
    "# 결국 식별해야 할 것은 생존 가능성인 survived 열\n",
    "LABEL_COLUMN = 'survived'\n",
    "LABELS = [0, 1]"
   ]
  },
  {
   "cell_type": "code",
   "execution_count": 13,
   "metadata": {},
   "outputs": [
    {
     "name": "stdout",
     "output_type": "stream",
     "text": [
      "WARNING:tensorflow:From /home/kismi/.local/lib/python3.6/site-packages/tensorflow_core/python/data/experimental/ops/readers.py:521: parallel_interleave (from tensorflow.python.data.experimental.ops.interleave_ops) is deprecated and will be removed in a future version.\n",
      "Instructions for updating:\n",
      "Use `tf.data.Dataset.interleave(map_func, cycle_length, block_length, num_parallel_calls=tf.data.experimental.AUTOTUNE)` instead. If sloppy execution is desired, use `tf.data.Options.experimental_determinstic`.\n"
     ]
    }
   ],
   "source": [
    "# file에서 csv 데이터를 읽고 dataset으로 만들기\n",
    "# tf.data.experimental.make_csv_dataset() 함수 확인\n",
    "# https://www.tensorflow.org/api_docs/python/tf/data/experimental/make_csv_dataset?hl=ko\n",
    "def get_dataset(file_path, **kwargs):\n",
    "  dataset = tf.data.experimental.make_csv_dataset(\n",
    "      file_path,\n",
    "      batch_size=5, # 예제를 쉽게 보여주기 위해 일부러 사이즈 작게 설정\n",
    "      label_name=LABEL_COLUMN,\n",
    "      na_value=\"?\",\n",
    "      num_epochs=1,\n",
    "      ignore_errors=True, \n",
    "      **kwargs)\n",
    "  return dataset\n",
    "\n",
    "raw_train_data = get_dataset(train_file_path)\n",
    "raw_test_data = get_dataset(test_file_path)"
   ]
  },
  {
   "cell_type": "code",
   "execution_count": 14,
   "metadata": {},
   "outputs": [],
   "source": [
    "def show_batch(dataset):\n",
    "  for batch, label in dataset.take(1):\n",
    "    for key, value in batch.items():\n",
    "      print(\"{:20s}: {}\".format(key,value.numpy()))"
   ]
  },
  {
   "cell_type": "code",
   "execution_count": 15,
   "metadata": {},
   "outputs": [
    {
     "name": "stdout",
     "output_type": "stream",
     "text": [
      "sex                 : [b'male' b'male' b'female' b'female' b'male']\n",
      "age                 : [35. 26. 45. 27.  4.]\n",
      "n_siblings_spouses  : [0 0 1 0 4]\n",
      "parch               : [0 0 1 0 1]\n",
      "fare                : [ 26.288  10.5   164.867  10.5    29.125]\n",
      "class               : [b'First' b'Second' b'First' b'Second' b'Third']\n",
      "deck                : [b'E' b'unknown' b'unknown' b'E' b'unknown']\n",
      "embark_town         : [b'Southampton' b'Southampton' b'Southampton' b'Southampton' b'Queenstown']\n",
      "alone               : [b'y' b'y' b'n' b'y' b'n']\n"
     ]
    }
   ],
   "source": [
    "# dataset의 항목은 batch 값대로 5개가 tuple로 표시\n",
    "# 이 예제는 열(row) 기반 tensor이며 각 행은 batch 크기만큼 요소를 가짐.\n",
    "show_batch(raw_train_data)"
   ]
  },
  {
   "cell_type": "code",
   "execution_count": 16,
   "metadata": {},
   "outputs": [
    {
     "name": "stdout",
     "output_type": "stream",
     "text": [
      "sex                 : [b'male' b'male' b'male' b'male' b'female']\n",
      "age                 : [28. 22. 26. 45. 19.]\n",
      "n_siblings_spouses  : [1 0 2 0 1]\n",
      "parch               : [2 0 0 0 0]\n",
      "fare                : [23.45   9.     8.663  8.05  26.   ]\n",
      "class               : [b'Third' b'Third' b'Third' b'Third' b'Second']\n",
      "deck                : [b'unknown' b'unknown' b'unknown' b'unknown' b'unknown']\n",
      "embark_town         : [b'Southampton' b'Southampton' b'Southampton' b'Southampton'\n",
      " b'Southampton']\n",
      "alone               : [b'n' b'y' b'n' b'y' b'n']\n"
     ]
    }
   ],
   "source": [
    "# 위의 경우처럼 자동으로 csv의 열 이름이 지정되지만, \n",
    "# 만약 첫번째 행에 열 이름이 포함되어있지 않으면 인수로 전달 가능\n",
    "CSV_COLUMNS = ['survived', 'sex', 'age', 'n_siblings_spouses', 'parch', 'fare', 'class', 'deck', 'embark_town', 'alone']\n",
    "\n",
    "temp_dataset = get_dataset(train_file_path, column_names=CSV_COLUMNS)\n",
    "\n",
    "show_batch(temp_dataset)"
   ]
  },
  {
   "cell_type": "code",
   "execution_count": 17,
   "metadata": {},
   "outputs": [
    {
     "name": "stdout",
     "output_type": "stream",
     "text": [
      "age                 : [49. 23. 35. 28. 30.]\n",
      "n_siblings_spouses  : [1 0 0 0 3]\n",
      "class               : [b'First' b'Second' b'Third' b'First' b'Second']\n",
      "deck                : [b'C' b'D' b'unknown' b'A' b'unknown']\n",
      "alone               : [b'n' b'y' b'y' b'y' b'n']\n"
     ]
    }
   ],
   "source": [
    "# 특정 열만 출력하고 싶으면 select_columns 옵션을 통해 인수로 전달 가능\n",
    "SELECT_COLUMNS = ['survived', 'age', 'n_siblings_spouses', 'class', 'deck', 'alone']\n",
    "\n",
    "temp_dataset = get_dataset(train_file_path, select_columns=SELECT_COLUMNS)\n",
    "\n",
    "show_batch(temp_dataset)"
   ]
  },
  {
   "cell_type": "markdown",
   "metadata": {},
   "source": [
    "### 데이터 전처리\n",
    "\n",
    "CSV 파일은 다양한 데이터 유형을 포함 할 수 있음.   \n",
    "아래 예제는 데이터를 모델에 공급하기 전에 고정길이 벡터로 변환하고자 함.   \n",
    "\n",
    "Tensorflow에는 일반적인 입력 변환을 위한 [feature_column()](https://www.tensorflow.org/tutorials/structured_data/feature_columns?hl=ko) 함수를 제공.\n",
    "\n",
    "원하는 도구 ([nltk](https://www.nltk.org/) 또는 [sklearn](https://scikit-learn.org/stable/))를 사용하여 데이터를 사전 처리 하고 처리 된 출력을 TensorFlow에 전달.\n",
    "\n",
    "모델 내에서 전처리를 수행 할 때의 이점은 모델을 내보낼 때 전처리를 포함한다는 것.   \n",
    "이렇게 하면 원시 데이터를 모델로 직접 전달할 수 있음."
   ]
  },
  {
   "cell_type": "code",
   "execution_count": 18,
   "metadata": {},
   "outputs": [
    {
     "name": "stdout",
     "output_type": "stream",
     "text": [
      "age                 : [32. 50. 28. 36. 38.]\n",
      "n_siblings_spouses  : [0. 0. 1. 1. 1.]\n",
      "parch               : [0. 0. 0. 1. 0.]\n",
      "fare                : [ 7.75  10.5   15.5   24.15  71.283]\n"
     ]
    }
   ],
   "source": [
    "# 연속 데이터\n",
    "# 데이터가 이미 비슷한 숫자 형식 일 경우 모델로 data 전달 전 vector로 묶을 수 있음\n",
    "SELECT_COLUMNS = ['survived', 'age', 'n_siblings_spouses', 'parch', 'fare']\n",
    "DEFAULTS = [0, 0.0, 0.0, 0.0, 0.0]\n",
    "temp_dataset = get_dataset(train_file_path, \n",
    "                           select_columns=SELECT_COLUMNS,\n",
    "                           column_defaults = DEFAULTS)\n",
    "\n",
    "show_batch(temp_dataset)"
   ]
  },
  {
   "cell_type": "code",
   "execution_count": 19,
   "metadata": {},
   "outputs": [],
   "source": [
    "# 모든 열을 묶는 간단한 함수\n",
    "example_batch, labels_batch = next(iter(temp_dataset)) "
   ]
  },
  {
   "cell_type": "code",
   "execution_count": 25,
   "metadata": {},
   "outputs": [
    {
     "name": "stdout",
     "output_type": "stream",
     "text": [
      "OrderedDict([('age', <tf.Tensor: id=429, shape=(5,), dtype=float32, numpy=array([34.  , 28.  ,  0.83, 28.  , 14.  ], dtype=float32)>), ('n_siblings_spouses', <tf.Tensor: id=431, shape=(5,), dtype=float32, numpy=array([1., 0., 0., 0., 1.], dtype=float32)>), ('parch', <tf.Tensor: id=432, shape=(5,), dtype=float32, numpy=array([0., 0., 2., 0., 0.], dtype=float32)>), ('fare', <tf.Tensor: id=430, shape=(5,), dtype=float32, numpy=array([26.   ,  6.95 , 29.   , 35.5  , 11.242], dtype=float32)>)])\n",
      "tf.Tensor([0 0 1 1 1], shape=(5,), dtype=int32)\n"
     ]
    }
   ],
   "source": [
    "print(example_batch)\n",
    "print(labels_batch)"
   ]
  },
  {
   "cell_type": "code",
   "execution_count": 26,
   "metadata": {},
   "outputs": [],
   "source": [
    "def pack(features, label):\n",
    "  return tf.stack(list(features.values()), axis=-1), label"
   ]
  },
  {
   "cell_type": "code",
   "execution_count": 27,
   "metadata": {},
   "outputs": [
    {
     "name": "stdout",
     "output_type": "stream",
     "text": [
      "[[33.     0.     2.    26.   ]\n",
      " [28.     1.     0.    51.862]\n",
      " [27.     1.     0.    13.858]\n",
      " [47.     0.     0.     9.   ]\n",
      " [22.     1.     0.     7.25 ]]\n",
      "\n",
      "[1 1 1 0 0]\n"
     ]
    }
   ],
   "source": [
    "# data set의 각 요소에 적용\n",
    "packed_dataset = temp_dataset.map(pack)\n",
    "\n",
    "for features, labels in packed_dataset.take(1):\n",
    "  print(features.numpy()) \n",
    "  # 1번 데이터를 보면 33세 승객은 형제, 자매, 배우자가 없고 2명과 함께 탐승했고 $26을 지불함\n",
    "  print()\n",
    "  print(labels.numpy())\n",
    "    \n",
    "# 숫자, 문자 등이 섞인 혼합 데이터 유형이 있는 경우 지금처럼 단순 숫자 필드를 분리 할 수 있음.\n",
    "# 하지만, 오버헤드 발생 가능성이 있기 때문에 가능한 피할 것을 추천."
   ]
  },
  {
   "cell_type": "code",
   "execution_count": 28,
   "metadata": {},
   "outputs": [
    {
     "name": "stdout",
     "output_type": "stream",
     "text": [
      "sex                 : [b'male' b'female' b'male' b'male' b'female']\n",
      "age                 : [28. 28. 28. 47. 36.]\n",
      "n_siblings_spouses  : [8 0 0 0 0]\n",
      "parch               : [2 0 0 0 0]\n",
      "fare                : [ 69.55    7.787   8.05    7.25  135.633]\n",
      "class               : [b'Third' b'Third' b'Third' b'Third' b'First']\n",
      "deck                : [b'unknown' b'unknown' b'unknown' b'unknown' b'C']\n",
      "embark_town         : [b'Southampton' b'Queenstown' b'Southampton' b'Southampton' b'Cherbourg']\n",
      "alone               : [b'n' b'y' b'y' b'y' b'y']\n"
     ]
    }
   ],
   "source": [
    "show_batch(raw_train_data)"
   ]
  },
  {
   "cell_type": "code",
   "execution_count": 29,
   "metadata": {},
   "outputs": [],
   "source": [
    "example_batch, labels_batch = next(iter(temp_dataset)) "
   ]
  },
  {
   "cell_type": "code",
   "execution_count": 30,
   "metadata": {},
   "outputs": [],
   "source": [
    "class PackNumericFeatures(object):\n",
    "  def __init__(self, names):\n",
    "    self.names = names\n",
    "\n",
    "  def __call__(self, features, labels):\n",
    "    numeric_features = [features.pop(name) for name in self.names]\n",
    "    numeric_features = [tf.cast(feat, tf.float32) for feat in numeric_features]\n",
    "    numeric_features = tf.stack(numeric_features, axis=-1)\n",
    "    features['numeric'] = numeric_features\n",
    "\n",
    "    return features, labels"
   ]
  },
  {
   "cell_type": "code",
   "execution_count": 31,
   "metadata": {},
   "outputs": [],
   "source": [
    "NUMERIC_FEATURES = ['age','n_siblings_spouses','parch', 'fare']\n",
    "\n",
    "packed_train_data = raw_train_data.map(\n",
    "    PackNumericFeatures(NUMERIC_FEATURES))\n",
    "\n",
    "packed_test_data = raw_test_data.map(\n",
    "    PackNumericFeatures(NUMERIC_FEATURES))"
   ]
  },
  {
   "cell_type": "code",
   "execution_count": 32,
   "metadata": {},
   "outputs": [
    {
     "name": "stdout",
     "output_type": "stream",
     "text": [
      "sex                 : [b'male' b'female' b'male' b'male' b'male']\n",
      "class               : [b'First' b'Second' b'Third' b'Second' b'First']\n",
      "deck                : [b'B' b'unknown' b'unknown' b'unknown' b'B']\n",
      "embark_town         : [b'Cherbourg' b'Southampton' b'Cherbourg' b'Southampton' b'Cherbourg']\n",
      "alone               : [b'n' b'y' b'n' b'y' b'y']\n",
      "numeric             : [[25.     1.     0.    91.079]\n",
      " [34.     0.     0.    13.   ]\n",
      " [28.     2.     0.    21.679]\n",
      " [18.     0.     0.    11.5  ]\n",
      " [32.     0.     0.    30.5  ]]\n"
     ]
    }
   ],
   "source": [
    "show_batch(packed_train_data)"
   ]
  },
  {
   "cell_type": "code",
   "execution_count": 33,
   "metadata": {},
   "outputs": [],
   "source": [
    "example_batch, labels_batch = next(iter(packed_train_data)) "
   ]
  },
  {
   "cell_type": "code",
   "execution_count": 34,
   "metadata": {},
   "outputs": [
    {
     "data": {
      "text/html": [
       "<div>\n",
       "<style scoped>\n",
       "    .dataframe tbody tr th:only-of-type {\n",
       "        vertical-align: middle;\n",
       "    }\n",
       "\n",
       "    .dataframe tbody tr th {\n",
       "        vertical-align: top;\n",
       "    }\n",
       "\n",
       "    .dataframe thead th {\n",
       "        text-align: right;\n",
       "    }\n",
       "</style>\n",
       "<table border=\"1\" class=\"dataframe\">\n",
       "  <thead>\n",
       "    <tr style=\"text-align: right;\">\n",
       "      <th></th>\n",
       "      <th>age</th>\n",
       "      <th>n_siblings_spouses</th>\n",
       "      <th>parch</th>\n",
       "      <th>fare</th>\n",
       "    </tr>\n",
       "  </thead>\n",
       "  <tbody>\n",
       "    <tr>\n",
       "      <th>count</th>\n",
       "      <td>627.000000</td>\n",
       "      <td>627.000000</td>\n",
       "      <td>627.000000</td>\n",
       "      <td>627.000000</td>\n",
       "    </tr>\n",
       "    <tr>\n",
       "      <th>mean</th>\n",
       "      <td>29.631308</td>\n",
       "      <td>0.545455</td>\n",
       "      <td>0.379585</td>\n",
       "      <td>34.385399</td>\n",
       "    </tr>\n",
       "    <tr>\n",
       "      <th>std</th>\n",
       "      <td>12.511818</td>\n",
       "      <td>1.151090</td>\n",
       "      <td>0.792999</td>\n",
       "      <td>54.597730</td>\n",
       "    </tr>\n",
       "    <tr>\n",
       "      <th>min</th>\n",
       "      <td>0.750000</td>\n",
       "      <td>0.000000</td>\n",
       "      <td>0.000000</td>\n",
       "      <td>0.000000</td>\n",
       "    </tr>\n",
       "    <tr>\n",
       "      <th>25%</th>\n",
       "      <td>23.000000</td>\n",
       "      <td>0.000000</td>\n",
       "      <td>0.000000</td>\n",
       "      <td>7.895800</td>\n",
       "    </tr>\n",
       "    <tr>\n",
       "      <th>50%</th>\n",
       "      <td>28.000000</td>\n",
       "      <td>0.000000</td>\n",
       "      <td>0.000000</td>\n",
       "      <td>15.045800</td>\n",
       "    </tr>\n",
       "    <tr>\n",
       "      <th>75%</th>\n",
       "      <td>35.000000</td>\n",
       "      <td>1.000000</td>\n",
       "      <td>0.000000</td>\n",
       "      <td>31.387500</td>\n",
       "    </tr>\n",
       "    <tr>\n",
       "      <th>max</th>\n",
       "      <td>80.000000</td>\n",
       "      <td>8.000000</td>\n",
       "      <td>5.000000</td>\n",
       "      <td>512.329200</td>\n",
       "    </tr>\n",
       "  </tbody>\n",
       "</table>\n",
       "</div>"
      ],
      "text/plain": [
       "              age  n_siblings_spouses       parch        fare\n",
       "count  627.000000          627.000000  627.000000  627.000000\n",
       "mean    29.631308            0.545455    0.379585   34.385399\n",
       "std     12.511818            1.151090    0.792999   54.597730\n",
       "min      0.750000            0.000000    0.000000    0.000000\n",
       "25%     23.000000            0.000000    0.000000    7.895800\n",
       "50%     28.000000            0.000000    0.000000   15.045800\n",
       "75%     35.000000            1.000000    0.000000   31.387500\n",
       "max     80.000000            8.000000    5.000000  512.329200"
      ]
     },
     "execution_count": 34,
     "metadata": {},
     "output_type": "execute_result"
    }
   ],
   "source": [
    "# 데이터 정규화\n",
    "import pandas as pd\n",
    "desc = pd.read_csv(train_file_path)[NUMERIC_FEATURES].describe()\n",
    "desc"
   ]
  },
  {
   "cell_type": "code",
   "execution_count": 35,
   "metadata": {},
   "outputs": [],
   "source": [
    "MEAN = np.array(desc.T['mean'])\n",
    "STD = np.array(desc.T['std'])"
   ]
  },
  {
   "cell_type": "code",
   "execution_count": 36,
   "metadata": {},
   "outputs": [],
   "source": [
    "def normalize_numeric_data(data, mean, std):\n",
    "  # Center the data\n",
    "  return (data-mean)/std"
   ]
  },
  {
   "cell_type": "code",
   "execution_count": 37,
   "metadata": {},
   "outputs": [
    {
     "data": {
      "text/plain": [
       "NumericColumn(key='numeric', shape=(4,), default_value=None, dtype=tf.float32, normalizer_fn=functools.partial(<function normalize_numeric_data at 0x7fe8bb391d90>, mean=array([29.631,  0.545,  0.38 , 34.385]), std=array([12.512,  1.151,  0.793, 54.598])))"
      ]
     },
     "execution_count": 37,
     "metadata": {},
     "output_type": "execute_result"
    }
   ],
   "source": [
    "# See what you just created.\n",
    "normalizer = functools.partial(normalize_numeric_data, mean=MEAN, std=STD)\n",
    "\n",
    "numeric_column = tf.feature_column.numeric_column('numeric', normalizer_fn=normalizer, shape=[len(NUMERIC_FEATURES)])\n",
    "numeric_columns = [numeric_column]\n",
    "numeric_column"
   ]
  },
  {
   "cell_type": "code",
   "execution_count": 38,
   "metadata": {},
   "outputs": [
    {
     "data": {
      "text/plain": [
       "<tf.Tensor: id=550, shape=(5, 4), dtype=float32, numpy=\n",
       "array([[11.   ,  4.   ,  2.   , 31.275],\n",
       "       [32.   ,  0.   ,  0.   ,  8.363],\n",
       "       [21.   ,  0.   ,  0.   ,  7.733],\n",
       "       [32.   ,  0.   ,  0.   ,  8.05 ],\n",
       "       [32.   ,  0.   ,  0.   ,  7.925]], dtype=float32)>"
      ]
     },
     "execution_count": 38,
     "metadata": {},
     "output_type": "execute_result"
    }
   ],
   "source": [
    "example_batch['numeric']"
   ]
  },
  {
   "cell_type": "code",
   "execution_count": 40,
   "metadata": {},
   "outputs": [
    {
     "data": {
      "text/plain": [
       "array([[-1.489,  3.001,  2.043, -0.057],\n",
       "       [ 0.189, -0.474, -0.479, -0.477],\n",
       "       [-0.69 , -0.474, -0.479, -0.488],\n",
       "       [ 0.189, -0.474, -0.479, -0.482],\n",
       "       [ 0.189, -0.474, -0.479, -0.485]], dtype=float32)"
      ]
     },
     "execution_count": 40,
     "metadata": {},
     "output_type": "execute_result"
    }
   ],
   "source": [
    "numeric_layer = tf.keras.layers.DenseFeatures(numeric_columns)\n",
    "numeric_layer(example_batch).numpy()\n",
    "# 평균 기반 정규화를 위해 각 열의 평균을 미리 알아야 함."
   ]
  },
  {
   "cell_type": "code",
   "execution_count": 41,
   "metadata": {},
   "outputs": [],
   "source": [
    "# 범주형 데이터\n",
    "CATEGORIES = {\n",
    "    'sex': ['male', 'female'],\n",
    "    'class' : ['First', 'Second', 'Third'],\n",
    "    'deck' : ['A', 'B', 'C', 'D', 'E', 'F', 'G', 'H', 'I', 'J'],\n",
    "    'embark_town' : ['Cherbourg', 'Southhampton', 'Queenstown'],\n",
    "    'alone' : ['y', 'n']\n",
    "}"
   ]
  },
  {
   "cell_type": "code",
   "execution_count": 42,
   "metadata": {},
   "outputs": [],
   "source": [
    "categorical_columns = []\n",
    "for feature, vocab in CATEGORIES.items():\n",
    "  cat_col = tf.feature_column.categorical_column_with_vocabulary_list(\n",
    "        key=feature, vocabulary_list=vocab)\n",
    "  categorical_columns.append(tf.feature_column.indicator_column(cat_col))"
   ]
  },
  {
   "cell_type": "code",
   "execution_count": 43,
   "metadata": {},
   "outputs": [
    {
     "data": {
      "text/plain": [
       "[IndicatorColumn(categorical_column=VocabularyListCategoricalColumn(key='sex', vocabulary_list=('male', 'female'), dtype=tf.string, default_value=-1, num_oov_buckets=0)),\n",
       " IndicatorColumn(categorical_column=VocabularyListCategoricalColumn(key='class', vocabulary_list=('First', 'Second', 'Third'), dtype=tf.string, default_value=-1, num_oov_buckets=0)),\n",
       " IndicatorColumn(categorical_column=VocabularyListCategoricalColumn(key='deck', vocabulary_list=('A', 'B', 'C', 'D', 'E', 'F', 'G', 'H', 'I', 'J'), dtype=tf.string, default_value=-1, num_oov_buckets=0)),\n",
       " IndicatorColumn(categorical_column=VocabularyListCategoricalColumn(key='embark_town', vocabulary_list=('Cherbourg', 'Southhampton', 'Queenstown'), dtype=tf.string, default_value=-1, num_oov_buckets=0)),\n",
       " IndicatorColumn(categorical_column=VocabularyListCategoricalColumn(key='alone', vocabulary_list=('y', 'n'), dtype=tf.string, default_value=-1, num_oov_buckets=0))]"
      ]
     },
     "execution_count": 43,
     "metadata": {},
     "output_type": "execute_result"
    }
   ],
   "source": [
    "categorical_columns"
   ]
  },
  {
   "cell_type": "code",
   "execution_count": 44,
   "metadata": {},
   "outputs": [
    {
     "name": "stdout",
     "output_type": "stream",
     "text": [
      "WARNING:tensorflow:From /home/kismi/.local/lib/python3.6/site-packages/tensorflow_core/python/feature_column/feature_column_v2.py:4276: IndicatorColumn._variable_shape (from tensorflow.python.feature_column.feature_column_v2) is deprecated and will be removed in a future version.\n",
      "Instructions for updating:\n",
      "The old _FeatureColumn APIs are being deprecated. Please use the new FeatureColumn APIs instead.\n",
      "WARNING:tensorflow:From /home/kismi/.local/lib/python3.6/site-packages/tensorflow_core/python/feature_column/feature_column_v2.py:4331: VocabularyListCategoricalColumn._num_buckets (from tensorflow.python.feature_column.feature_column_v2) is deprecated and will be removed in a future version.\n",
      "Instructions for updating:\n",
      "The old _FeatureColumn APIs are being deprecated. Please use the new FeatureColumn APIs instead.\n",
      "[0. 1. 0. 0. 1. 0. 0. 0. 0. 0. 0. 0. 0. 0. 0. 0. 0. 0. 0. 1.]\n"
     ]
    }
   ],
   "source": [
    "categorical_layer = tf.keras.layers.DenseFeatures(categorical_columns)\n",
    "print(categorical_layer(example_batch).numpy()[0]) # 모델 build시 데이터 처리 입력의 일부가 됨."
   ]
  },
  {
   "cell_type": "code",
   "execution_count": 45,
   "metadata": {},
   "outputs": [
    {
     "name": "stdout",
     "output_type": "stream",
     "text": [
      "[ 0.     1.     0.     0.     1.     0.     0.     0.     0.     0.\n",
      "  0.     0.     0.     0.     0.     0.     0.     0.    -1.489  3.001\n",
      "  2.043 -0.057  0.     1.   ]\n"
     ]
    }
   ],
   "source": [
    "# 결합된 전처리 층\n",
    "preprocessing_layer = tf.keras.layers.DenseFeatures(categorical_columns+numeric_columns)\n",
    "print(preprocessing_layer(example_batch).numpy()[0])"
   ]
  },
  {
   "cell_type": "code",
   "execution_count": 46,
   "metadata": {},
   "outputs": [],
   "source": [
    "# 모델 구축\n",
    "model = tf.keras.Sequential([\n",
    "  preprocessing_layer,\n",
    "  tf.keras.layers.Dense(128, activation='relu'),\n",
    "  tf.keras.layers.Dense(128, activation='relu'),\n",
    "  tf.keras.layers.Dense(1),\n",
    "])\n",
    "\n",
    "model.compile(\n",
    "    loss=tf.keras.losses.BinaryCrossentropy(from_logits=True),\n",
    "    optimizer='adam',\n",
    "    metrics=['accuracy'])"
   ]
  },
  {
   "cell_type": "code",
   "execution_count": 47,
   "metadata": {},
   "outputs": [],
   "source": [
    "train_data = packed_train_data.shuffle(500)\n",
    "test_data = packed_test_data"
   ]
  },
  {
   "cell_type": "code",
   "execution_count": 51,
   "metadata": {
    "scrolled": true
   },
   "outputs": [
    {
     "name": "stdout",
     "output_type": "stream",
     "text": [
      "Epoch 1/20\n",
      "126/126 [==============================] - 1s 10ms/step - loss: 0.5196 - accuracy: 0.7209\n",
      "Epoch 2/20\n",
      "126/126 [==============================] - 0s 2ms/step - loss: 0.4251 - accuracy: 0.8166\n",
      "Epoch 3/20\n",
      "126/126 [==============================] - 0s 2ms/step - loss: 0.4065 - accuracy: 0.8214\n",
      "Epoch 4/20\n",
      "126/126 [==============================] - 0s 2ms/step - loss: 0.3930 - accuracy: 0.8293\n",
      "Epoch 5/20\n",
      "126/126 [==============================] - 0s 2ms/step - loss: 0.3876 - accuracy: 0.8246\n",
      "Epoch 6/20\n",
      "126/126 [==============================] - 0s 2ms/step - loss: 0.3750 - accuracy: 0.8357\n",
      "Epoch 7/20\n",
      "126/126 [==============================] - 0s 2ms/step - loss: 0.3671 - accuracy: 0.8373\n",
      "Epoch 8/20\n",
      "126/126 [==============================] - 0s 2ms/step - loss: 0.3622 - accuracy: 0.8437\n",
      "Epoch 9/20\n",
      "126/126 [==============================] - 0s 2ms/step - loss: 0.3628 - accuracy: 0.8421\n",
      "Epoch 10/20\n",
      "126/126 [==============================] - 0s 2ms/step - loss: 0.3535 - accuracy: 0.8565\n",
      "Epoch 11/20\n",
      "126/126 [==============================] - 0s 2ms/step - loss: 0.3447 - accuracy: 0.8469\n",
      "Epoch 12/20\n",
      "126/126 [==============================] - 0s 2ms/step - loss: 0.3393 - accuracy: 0.8581\n",
      "Epoch 13/20\n",
      "126/126 [==============================] - 0s 2ms/step - loss: 0.3331 - accuracy: 0.8533\n",
      "Epoch 14/20\n",
      "126/126 [==============================] - 0s 2ms/step - loss: 0.3370 - accuracy: 0.8596\n",
      "Epoch 15/20\n",
      "126/126 [==============================] - 0s 2ms/step - loss: 0.3284 - accuracy: 0.8581\n",
      "Epoch 16/20\n",
      "126/126 [==============================] - 0s 2ms/step - loss: 0.3268 - accuracy: 0.8628\n",
      "Epoch 17/20\n",
      "126/126 [==============================] - 0s 2ms/step - loss: 0.3195 - accuracy: 0.8581\n",
      "Epoch 18/20\n",
      "126/126 [==============================] - 0s 2ms/step - loss: 0.3303 - accuracy: 0.8581\n",
      "Epoch 19/20\n",
      "126/126 [==============================] - 0s 2ms/step - loss: 0.3213 - accuracy: 0.8596\n",
      "Epoch 20/20\n",
      "126/126 [==============================] - 0s 2ms/step - loss: 0.3107 - accuracy: 0.8628\n"
     ]
    },
    {
     "data": {
      "text/plain": [
       "<tensorflow.python.keras.callbacks.History at 0x7fe93f6722b0>"
      ]
     },
     "execution_count": 51,
     "metadata": {},
     "output_type": "execute_result"
    }
   ],
   "source": [
    "model.fit(train_data, epochs=20) # 모델 훈련(학습)시키기"
   ]
  },
  {
   "cell_type": "code",
   "execution_count": 52,
   "metadata": {},
   "outputs": [
    {
     "name": "stdout",
     "output_type": "stream",
     "text": [
      "53/53 [==============================] - 0s 9ms/step - loss: 0.4959 - accuracy: 0.8447\n",
      "\n",
      "\n",
      "Test Loss 0.495882159977589, Test Accuracy 0.8446969985961914\n"
     ]
    }
   ],
   "source": [
    "# test_data set을 통해 훈련(학습)된 데이터의 정확도 확인\n",
    "test_loss, test_accuracy = model.evaluate(test_data)\n",
    "\n",
    "print('\\n\\nTest Loss {}, Test Accuracy {}'.format(test_loss, test_accuracy))"
   ]
  },
  {
   "cell_type": "code",
   "execution_count": 53,
   "metadata": {},
   "outputs": [
    {
     "name": "stdout",
     "output_type": "stream",
     "text": [
      "Predicted survival: 12.70%  | Actual outcome:  DIED\n",
      "Predicted survival: 93.42%  | Actual outcome:  DIED\n",
      "Predicted survival: 6.50%  | Actual outcome:  DIED\n",
      "Predicted survival: 9.73%  | Actual outcome:  DIED\n",
      "Predicted survival: 56.17%  | Actual outcome:  SURVIVED\n"
     ]
    }
   ],
   "source": [
    "# predict 함수를 통해 배치 데이터셋에서 레이블 유추\n",
    "predictions = model.predict(test_data)\n",
    "\n",
    "# Show some results\n",
    "for prediction, survived in zip(predictions[:10], list(test_data)[0][1][:10]):\n",
    "  prediction = tf.sigmoid(prediction).numpy()\n",
    "  print(\"Predicted survival: {:.2%}\".format(prediction[0]),\n",
    "        \" | Actual outcome: \",\n",
    "        (\"SURVIVED\" if bool(survived) else \"DIED\"))\n"
   ]
  },
  {
   "cell_type": "code",
   "execution_count": 54,
   "metadata": {},
   "outputs": [
    {
     "name": "stdout",
     "output_type": "stream",
     "text": [
      "[[-1.928]\n",
      " [ 2.654]\n",
      " [-2.667]\n",
      " [-2.227]\n",
      " [ 0.248]\n",
      " [ 9.364]\n",
      " [-2.27 ]\n",
      " [ 1.855]\n",
      " [-2.254]\n",
      " [-1.471]\n",
      " [-1.197]\n",
      " [-2.151]\n",
      " [-1.978]\n",
      " [-0.782]\n",
      " [ 5.781]\n",
      " [-0.145]\n",
      " [ 0.4  ]\n",
      " [ 1.739]\n",
      " [-2.231]\n",
      " [-2.236]\n",
      " [ 0.153]\n",
      " [ 4.214]\n",
      " [ 6.011]\n",
      " [-1.053]\n",
      " [-1.939]\n",
      " [-2.637]\n",
      " [ 8.657]\n",
      " [ 1.384]\n",
      " [ 4.216]\n",
      " [-2.191]\n",
      " [-2.048]\n",
      " [ 2.304]\n",
      " [-0.98 ]\n",
      " [ 1.125]\n",
      " [-0.484]\n",
      " [ 3.17 ]\n",
      " [-2.266]\n",
      " [-2.908]\n",
      " [-1.464]\n",
      " [ 6.965]\n",
      " [ 9.865]\n",
      " [-0.753]\n",
      " [-2.316]\n",
      " [-1.071]\n",
      " [ 5.277]\n",
      " [-2.087]\n",
      " [ 2.851]\n",
      " [ 2.875]\n",
      " [ 5.782]\n",
      " [ 7.738]\n",
      " [-2.854]\n",
      " [ 5.536]\n",
      " [-1.844]\n",
      " [ 5.635]\n",
      " [ 6.74 ]\n",
      " [ 1.867]\n",
      " [ 1.854]\n",
      " [10.604]\n",
      " [-3.894]\n",
      " [-2.315]\n",
      " [ 2.367]\n",
      " [ 0.106]\n",
      " [-0.419]\n",
      " [ 1.59 ]\n",
      " [-2.356]\n",
      " [ 1.24 ]\n",
      " [ 0.341]\n",
      " [ 0.082]\n",
      " [ 3.52 ]\n",
      " [-3.054]\n",
      " [-1.708]\n",
      " [-4.089]\n",
      " [-0.735]\n",
      " [ 9.421]\n",
      " [-4.176]\n",
      " [ 4.492]\n",
      " [-2.089]\n",
      " [ 1.674]\n",
      " [-2.288]\n",
      " [-1.219]\n",
      " [-2.235]\n",
      " [ 4.438]\n",
      " [-4.169]\n",
      " [-0.157]\n",
      " [-1.078]\n",
      " [-2.29 ]\n",
      " [ 1.851]\n",
      " [-3.054]\n",
      " [-1.227]\n",
      " [-2.796]\n",
      " [-2.389]\n",
      " [-2.349]\n",
      " [ 0.419]\n",
      " [-1.266]\n",
      " [-2.718]\n",
      " [-2.311]\n",
      " [-2.166]\n",
      " [-2.761]\n",
      " [-2.217]\n",
      " [-2.351]\n",
      " [ 1.756]\n",
      " [-2.029]\n",
      " [-2.028]\n",
      " [-2.724]\n",
      " [-2.221]\n",
      " [ 0.353]\n",
      " [-2.751]\n",
      " [-3.446]\n",
      " [-1.192]\n",
      " [ 6.077]\n",
      " [-1.776]\n",
      " [-2.339]\n",
      " [-2.621]\n",
      " [-2.365]\n",
      " [-2.916]\n",
      " [-2.95 ]\n",
      " [ 1.428]\n",
      " [-2.162]\n",
      " [ 1.475]\n",
      " [-2.632]\n",
      " [ 5.6  ]\n",
      " [ 1.765]\n",
      " [-2.849]\n",
      " [-1.227]\n",
      " [-2.231]\n",
      " [-2.747]\n",
      " [ 2.713]\n",
      " [ 3.77 ]\n",
      " [-1.227]\n",
      " [-2.633]\n",
      " [ 5.637]\n",
      " [ 1.685]\n",
      " [-1.481]\n",
      " [-2.365]\n",
      " [-2.34 ]\n",
      " [-2.139]\n",
      " [ 5.058]\n",
      " [-1.313]\n",
      " [ 2.331]\n",
      " [ 1.579]\n",
      " [-1.273]\n",
      " [-2.312]\n",
      " [-2.83 ]\n",
      " [-2.072]\n",
      " [-3.331]\n",
      " [ 3.488]\n",
      " [-2.533]\n",
      " [ 0.35 ]\n",
      " [-1.416]\n",
      " [-2.053]\n",
      " [-2.943]\n",
      " [ 0.38 ]\n",
      " [ 2.245]\n",
      " [ 0.248]\n",
      " [-2.326]\n",
      " [-2.724]\n",
      " [-0.059]\n",
      " [-2.353]\n",
      " [-2.253]\n",
      " [ 0.574]\n",
      " [-2.313]\n",
      " [-0.679]\n",
      " [ 3.542]\n",
      " [-2.042]\n",
      " [-1.951]\n",
      " [ 3.451]\n",
      " [-2.564]\n",
      " [ 2.189]\n",
      " [-1.315]\n",
      " [-0.957]\n",
      " [ 8.681]\n",
      " [-2.978]\n",
      " [-4.482]\n",
      " [ 3.751]\n",
      " [-2.104]\n",
      " [ 3.444]\n",
      " [-1.818]\n",
      " [ 2.49 ]\n",
      " [-0.27 ]\n",
      " [ 5.36 ]\n",
      " [-2.296]\n",
      " [-2.019]\n",
      " [ 0.712]\n",
      " [ 6.246]\n",
      " [-1.227]\n",
      " [ 1.302]\n",
      " [ 2.152]\n",
      " [-2.206]\n",
      " [-2.189]\n",
      " [ 0.295]\n",
      " [-2.358]\n",
      " [-2.266]\n",
      " [ 6.292]\n",
      " [ 0.002]\n",
      " [-0.017]\n",
      " [ 0.352]\n",
      " [ 3.182]\n",
      " [-2.27 ]\n",
      " [ 1.499]\n",
      " [ 4.505]\n",
      " [ 1.414]\n",
      " [-2.943]\n",
      " [11.029]\n",
      " [ 7.445]\n",
      " [ 0.346]\n",
      " [-1.748]\n",
      " [-0.328]\n",
      " [ 1.172]\n",
      " [ 5.529]\n",
      " [ 6.354]\n",
      " [ 2.056]\n",
      " [ 1.528]\n",
      " [ 4.397]\n",
      " [-2.066]\n",
      " [ 0.328]\n",
      " [ 0.266]\n",
      " [ 1.271]\n",
      " [ 7.104]\n",
      " [-2.048]\n",
      " [-0.508]\n",
      " [ 0.244]\n",
      " [-2.354]\n",
      " [-2.161]\n",
      " [ 1.176]\n",
      " [ 0.254]\n",
      " [-0.979]\n",
      " [-2.249]\n",
      " [ 0.332]\n",
      " [-1.227]\n",
      " [-2.943]\n",
      " [-0.328]\n",
      " [-3.001]\n",
      " [-2.089]\n",
      " [-2.907]\n",
      " [ 1.855]\n",
      " [-3.68 ]\n",
      " [-2.111]\n",
      " [-0.114]\n",
      " [-2.843]\n",
      " [ 5.402]\n",
      " [ 0.465]\n",
      " [-3.409]\n",
      " [-2.723]\n",
      " [ 4.672]\n",
      " [-0.8  ]\n",
      " [ 7.07 ]\n",
      " [ 1.857]\n",
      " [-0.871]\n",
      " [ 7.795]\n",
      " [ 0.021]\n",
      " [-0.278]\n",
      " [-2.095]\n",
      " [-1.011]\n",
      " [ 8.86 ]\n",
      " [-2.352]\n",
      " [ 4.387]\n",
      " [-2.744]\n",
      " [ 0.712]\n",
      " [-2.299]\n",
      " [10.782]\n",
      " [ 0.209]\n",
      " [-3.042]\n",
      " [ 1.787]\n",
      " [-2.159]]\n"
     ]
    }
   ],
   "source": [
    "print(predictions)"
   ]
  }
 ],
 "metadata": {
  "kernelspec": {
   "display_name": "Python 3",
   "language": "python",
   "name": "python3"
  },
  "language_info": {
   "codemirror_mode": {
    "name": "ipython",
    "version": 3
   },
   "file_extension": ".py",
   "mimetype": "text/x-python",
   "name": "python",
   "nbconvert_exporter": "python",
   "pygments_lexer": "ipython3",
   "version": "3.6.9"
  }
 },
 "nbformat": 4,
 "nbformat_minor": 4
}

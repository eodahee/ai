{
 "cells": [
  {
   "cell_type": "markdown",
   "metadata": {},
   "source": [
    "# 에스티메이터\n",
    "## 1. 사전 제작된 에스티메이터\n",
    "### 참고사이트 : https://www.tensorflow.org/tutorials/estimator/premade?hl=ko"
   ]
  },
  {
   "cell_type": "code",
   "execution_count": 2,
   "metadata": {},
   "outputs": [],
   "source": [
    "import tensorflow as tf\n",
    "\n",
    "import pandas as pd"
   ]
  },
  {
   "cell_type": "code",
   "execution_count": 6,
   "metadata": {},
   "outputs": [],
   "source": [
    "# dataset\n",
    "\n",
    "# Iris 꽃을 꽃받침과 꽃잎의 크기에 따라 3가지 종으로 분류하는 모델을 구축하고 테스트\n",
    "# Iris dataset에는 4가지 Feature(꽃받침의 길이,너비 / 꽃잎의 길이,너비)와 Label(답)이 있음.\n",
    "\n",
    "# 위 정보를 바탕으로 데이터 구문 분석에 도움이 될만한 몇 가지 상수 정의\n",
    "CSV_COLUMN_NAMES = ['SepalLength', 'SepalWidth', 'PetalLength', 'PetalWidth', 'Species']\n",
    "SPECIES = ['Setosa', 'Versicolor', 'Virginica']"
   ]
  },
  {
   "cell_type": "code",
   "execution_count": 7,
   "metadata": {},
   "outputs": [],
   "source": [
    "# Keras 및 Pandas를 사용해 Iris dataset 다운로드\n",
    "train_path = tf.keras.utils.get_file(\n",
    "    \"iris_training.csv\", \"https://storage.googleapis.com/download.tensorflow.org/data/iris_training.csv\")\n",
    "test_path = tf.keras.utils.get_file(\n",
    "    \"iris_test.csv\", \"https://storage.googleapis.com/download.tensorflow.org/data/iris_test.csv\")\n",
    "\n",
    "# 교육 및 테스트를 위해 별도의 dataset 유지\n",
    "train = pd.read_csv(train_path, names=CSV_COLUMN_NAMES, header=0)\n",
    "test = pd.read_csv(test_path, names=CSV_COLUMN_NAMES, header=0)"
   ]
  },
  {
   "cell_type": "code",
   "execution_count": 10,
   "metadata": {},
   "outputs": [
    {
     "data": {
      "text/html": [
       "<div>\n",
       "<style scoped>\n",
       "    .dataframe tbody tr th:only-of-type {\n",
       "        vertical-align: middle;\n",
       "    }\n",
       "\n",
       "    .dataframe tbody tr th {\n",
       "        vertical-align: top;\n",
       "    }\n",
       "\n",
       "    .dataframe thead th {\n",
       "        text-align: right;\n",
       "    }\n",
       "</style>\n",
       "<table border=\"1\" class=\"dataframe\">\n",
       "  <thead>\n",
       "    <tr style=\"text-align: right;\">\n",
       "      <th></th>\n",
       "      <th>SepalLength</th>\n",
       "      <th>SepalWidth</th>\n",
       "      <th>PetalLength</th>\n",
       "      <th>PetalWidth</th>\n",
       "      <th>Species</th>\n",
       "    </tr>\n",
       "  </thead>\n",
       "  <tbody>\n",
       "    <tr>\n",
       "      <th>0</th>\n",
       "      <td>6.4</td>\n",
       "      <td>2.8</td>\n",
       "      <td>5.6</td>\n",
       "      <td>2.2</td>\n",
       "      <td>2</td>\n",
       "    </tr>\n",
       "    <tr>\n",
       "      <th>1</th>\n",
       "      <td>5.0</td>\n",
       "      <td>2.3</td>\n",
       "      <td>3.3</td>\n",
       "      <td>1.0</td>\n",
       "      <td>1</td>\n",
       "    </tr>\n",
       "    <tr>\n",
       "      <th>2</th>\n",
       "      <td>4.9</td>\n",
       "      <td>2.5</td>\n",
       "      <td>4.5</td>\n",
       "      <td>1.7</td>\n",
       "      <td>2</td>\n",
       "    </tr>\n",
       "    <tr>\n",
       "      <th>3</th>\n",
       "      <td>4.9</td>\n",
       "      <td>3.1</td>\n",
       "      <td>1.5</td>\n",
       "      <td>0.1</td>\n",
       "      <td>0</td>\n",
       "    </tr>\n",
       "    <tr>\n",
       "      <th>4</th>\n",
       "      <td>5.7</td>\n",
       "      <td>3.8</td>\n",
       "      <td>1.7</td>\n",
       "      <td>0.3</td>\n",
       "      <td>0</td>\n",
       "    </tr>\n",
       "  </tbody>\n",
       "</table>\n",
       "</div>"
      ],
      "text/plain": [
       "   SepalLength  SepalWidth  PetalLength  PetalWidth  Species\n",
       "0          6.4         2.8          5.6         2.2        2\n",
       "1          5.0         2.3          3.3         1.0        1\n",
       "2          4.9         2.5          4.5         1.7        2\n",
       "3          4.9         3.1          1.5         0.1        0\n",
       "4          5.7         3.8          1.7         0.3        0"
      ]
     },
     "execution_count": 10,
     "metadata": {},
     "output_type": "execute_result"
    }
   ],
   "source": [
    "train.head() # 처음 5개 데이터 확인을 통해 값들이 모두 정상적인지 확인"
   ]
  },
  {
   "cell_type": "code",
   "execution_count": 11,
   "metadata": {},
   "outputs": [
    {
     "data": {
      "text/html": [
       "<div>\n",
       "<style scoped>\n",
       "    .dataframe tbody tr th:only-of-type {\n",
       "        vertical-align: middle;\n",
       "    }\n",
       "\n",
       "    .dataframe tbody tr th {\n",
       "        vertical-align: top;\n",
       "    }\n",
       "\n",
       "    .dataframe thead th {\n",
       "        text-align: right;\n",
       "    }\n",
       "</style>\n",
       "<table border=\"1\" class=\"dataframe\">\n",
       "  <thead>\n",
       "    <tr style=\"text-align: right;\">\n",
       "      <th></th>\n",
       "      <th>SepalLength</th>\n",
       "      <th>SepalWidth</th>\n",
       "      <th>PetalLength</th>\n",
       "      <th>PetalWidth</th>\n",
       "    </tr>\n",
       "  </thead>\n",
       "  <tbody>\n",
       "    <tr>\n",
       "      <th>0</th>\n",
       "      <td>6.4</td>\n",
       "      <td>2.8</td>\n",
       "      <td>5.6</td>\n",
       "      <td>2.2</td>\n",
       "    </tr>\n",
       "    <tr>\n",
       "      <th>1</th>\n",
       "      <td>5.0</td>\n",
       "      <td>2.3</td>\n",
       "      <td>3.3</td>\n",
       "      <td>1.0</td>\n",
       "    </tr>\n",
       "    <tr>\n",
       "      <th>2</th>\n",
       "      <td>4.9</td>\n",
       "      <td>2.5</td>\n",
       "      <td>4.5</td>\n",
       "      <td>1.7</td>\n",
       "    </tr>\n",
       "    <tr>\n",
       "      <th>3</th>\n",
       "      <td>4.9</td>\n",
       "      <td>3.1</td>\n",
       "      <td>1.5</td>\n",
       "      <td>0.1</td>\n",
       "    </tr>\n",
       "    <tr>\n",
       "      <th>4</th>\n",
       "      <td>5.7</td>\n",
       "      <td>3.8</td>\n",
       "      <td>1.7</td>\n",
       "      <td>0.3</td>\n",
       "    </tr>\n",
       "  </tbody>\n",
       "</table>\n",
       "</div>"
      ],
      "text/plain": [
       "   SepalLength  SepalWidth  PetalLength  PetalWidth\n",
       "0          6.4         2.8          5.6         2.2\n",
       "1          5.0         2.3          3.3         1.0\n",
       "2          4.9         2.5          4.5         1.7\n",
       "3          4.9         3.1          1.5         0.1\n",
       "4          5.7         3.8          1.7         0.3"
      ]
     },
     "execution_count": 11,
     "metadata": {},
     "output_type": "execute_result"
    }
   ],
   "source": [
    "# 모델 예측을 위해 학습 할 label 분할\n",
    "train_y = train.pop('Species')\n",
    "test_y = test.pop('Species')\n",
    "\n",
    "# The label column has now been removed from the features.\n",
    "train.head()"
   ]
  },
  {
   "cell_type": "markdown",
   "metadata": {},
   "source": [
    "### Estimators를 사용한 프로그래밍 개요\n",
    " 1) 하나 이상의 입력 기능 만들기    \n",
    " 2) 모델의 feature 열 정의   \n",
    " 3) feature 열과 다양한 파라미터를 지정해 Estimator를 인스턴스화   \n",
    " 4) 적절한 입력 함수를 데이터 소스로 전달해 Estimator object에서 하나 이상의 메소드를 호출\n"
   ]
  },
  {
   "cell_type": "code",
   "execution_count": 12,
   "metadata": {},
   "outputs": [],
   "source": [
    "# 1) 입력 기능 생성 => 0,1번을 가지고 만든 간단한 예제\n",
    "# 학습, 평가, 예측을 위한 데이터 제공을 위해서 입력 기능 작성\n",
    "# features = python dictionary 타입 { feature이름 : 해당 feature의 모든 값 }\n",
    "# label = 모든 예제의 label 값을 포함하는 배열\n",
    "def input_evaluation_set():\n",
    "    features = {'SepalLength': np.array([6.4, 5.0]),\n",
    "                'SepalWidth':  np.array([2.8, 2.3]),\n",
    "                'PetalLength': np.array([5.6, 3.3]),\n",
    "                'PetalWidth':  np.array([2.2, 1.0])}\n",
    "    labels = np.array([2, 1])\n",
    "    return features, labels"
   ]
  },
  {
   "cell_type": "code",
   "execution_count": 13,
   "metadata": {},
   "outputs": [],
   "source": [
    "# 이 예제에서 작업을 단순하게 유지하기 위해 pandas로 데이터를 로드하고 이 안에서 입력 파이프라인 작성\n",
    "def input_fn(features, labels, training=True, batch_size=256):\n",
    "    \"\"\"An input function for training or evaluating\"\"\"\n",
    "    # Convert the inputs to a Dataset.\n",
    "    dataset = tf.data.Dataset.from_tensor_slices((dict(features), labels))\n",
    "\n",
    "    # Shuffle and repeat if you are in training mode.\n",
    "    if training:\n",
    "        dataset = dataset.shuffle(1000).repeat()\n",
    "    \n",
    "    return dataset.batch(batch_size)"
   ]
  },
  {
   "cell_type": "code",
   "execution_count": 14,
   "metadata": {},
   "outputs": [
    {
     "name": "stdout",
     "output_type": "stream",
     "text": [
      "[NumericColumn(key='SepalLength', shape=(1,), default_value=None, dtype=tf.float32, normalizer_fn=None), NumericColumn(key='SepalWidth', shape=(1,), default_value=None, dtype=tf.float32, normalizer_fn=None), NumericColumn(key='PetalLength', shape=(1,), default_value=None, dtype=tf.float32, normalizer_fn=None), NumericColumn(key='PetalWidth', shape=(1,), default_value=None, dtype=tf.float32, normalizer_fn=None)]\n"
     ]
    }
   ],
   "source": [
    "# 2) 모델의 feature column 정의\n",
    "# estimator 모델을 빌드 할 때 모델에서 사용 할 각 기능을 설명하는 기능 열 목록(옵션 다양)\n",
    "# Iris dataset의 경우 4 개의 행은 숫자 값이므로, Estimator 모델에 4 가지 기능 각각을 32 비트 부동 소수점 값으로 표시하도록 기능 열 목록을 작성\n",
    "my_feature_columns = []\n",
    "for key in train.keys():\n",
    "    my_feature_columns.append(tf.feature_column.numeric_column(key=key))\n",
    "    \n",
    "# feature column은 더 정교하게 나눌 수 있음(https://www.tensorflow.org/tutorials/structured_data/feature_columns?hl=ko)\n",
    "print(my_feature_columns)"
   ]
  },
  {
   "cell_type": "code",
   "execution_count": 15,
   "metadata": {},
   "outputs": [
    {
     "name": "stdout",
     "output_type": "stream",
     "text": [
      "INFO:tensorflow:Using default config.\n",
      "WARNING:tensorflow:Using temporary folder as model directory: /tmp/tmp0zyb7ayi\n",
      "INFO:tensorflow:Using config: {'_model_dir': '/tmp/tmp0zyb7ayi', '_tf_random_seed': None, '_save_summary_steps': 100, '_save_checkpoints_steps': None, '_save_checkpoints_secs': 600, '_session_config': allow_soft_placement: true\n",
      "graph_options {\n",
      "  rewrite_options {\n",
      "    meta_optimizer_iterations: ONE\n",
      "  }\n",
      "}\n",
      ", '_keep_checkpoint_max': 5, '_keep_checkpoint_every_n_hours': 10000, '_log_step_count_steps': 100, '_train_distribute': None, '_device_fn': None, '_protocol': None, '_eval_distribute': None, '_experimental_distribute': None, '_experimental_max_worker_delay_secs': None, '_session_creation_timeout_secs': 7200, '_service': None, '_cluster_spec': ClusterSpec({}), '_task_type': 'worker', '_task_id': 0, '_global_id_in_cluster': 0, '_master': '', '_evaluation_master': '', '_is_chief': True, '_num_ps_replicas': 0, '_num_worker_replicas': 1}\n"
     ]
    }
   ],
   "source": [
    "# 3) feature 열과 다양한 파라미터를 지정해 Estimator를 인스턴스화\n",
    "# tf.estimator.DNNClassifier 사용(30개 + 10 개의 hidden nodes를 포함하는 2개의 hidden layers)\n",
    "classifier = tf.estimator.DNNClassifier(\n",
    "    feature_columns=my_feature_columns,\n",
    "    # Two hidden layers of 30 and 10 nodes respectively.\n",
    "    hidden_units=[30, 10],\n",
    "    # The model must choose between 3 classes.\n",
    "    n_classes=3)"
   ]
  },
  {
   "cell_type": "code",
   "execution_count": 16,
   "metadata": {
    "scrolled": true
   },
   "outputs": [
    {
     "name": "stdout",
     "output_type": "stream",
     "text": [
      "WARNING:tensorflow:From /home/tensorflow/.local/lib/python3.6/site-packages/tensorflow/python/training/training_util.py:236: Variable.initialized_value (from tensorflow.python.ops.variables) is deprecated and will be removed in a future version.\n",
      "Instructions for updating:\n",
      "Use Variable.read_value. Variables in 2.X are initialized automatically both in eager and graph (inside tf.defun) contexts.\n",
      "INFO:tensorflow:Calling model_fn.\n",
      "WARNING:tensorflow:Layer dnn is casting an input tensor from dtype float64 to the layer's dtype of float32, which is new behavior in TensorFlow 2.  The layer has dtype float32 because its dtype defaults to floatx.\n",
      "\n",
      "If you intended to run this layer in float32, you can safely ignore this warning. If in doubt, this warning is likely only an issue if you are porting a TensorFlow 1.X model to TensorFlow 2.\n",
      "\n",
      "To change all layers to have dtype float64 by default, call `tf.keras.backend.set_floatx('float64')`. To change just this layer, pass dtype='float64' to the layer constructor. If you are the author of this layer, you can disable autocasting by passing autocast=False to the base Layer constructor.\n",
      "\n",
      "WARNING:tensorflow:From /home/tensorflow/.local/lib/python3.6/site-packages/tensorflow/python/keras/optimizer_v2/adagrad.py:83: calling Constant.__init__ (from tensorflow.python.ops.init_ops) with dtype is deprecated and will be removed in a future version.\n",
      "Instructions for updating:\n",
      "Call initializer instance with the dtype argument instead of passing it to the constructor\n",
      "INFO:tensorflow:Done calling model_fn.\n",
      "INFO:tensorflow:Create CheckpointSaverHook.\n",
      "INFO:tensorflow:Graph was finalized.\n",
      "INFO:tensorflow:Running local_init_op.\n",
      "INFO:tensorflow:Done running local_init_op.\n",
      "INFO:tensorflow:Calling checkpoint listeners before saving checkpoint 0...\n",
      "INFO:tensorflow:Saving checkpoints for 0 into /tmp/tmp0zyb7ayi/model.ckpt.\n",
      "INFO:tensorflow:Calling checkpoint listeners after saving checkpoint 0...\n",
      "INFO:tensorflow:loss = 1.9312811, step = 0\n",
      "INFO:tensorflow:global_step/sec: 219.85\n",
      "INFO:tensorflow:loss = 1.249839, step = 100 (0.459 sec)\n",
      "INFO:tensorflow:global_step/sec: 222.888\n",
      "INFO:tensorflow:loss = 1.0999857, step = 200 (0.450 sec)\n",
      "INFO:tensorflow:global_step/sec: 205.527\n",
      "INFO:tensorflow:loss = 0.9537803, step = 300 (0.486 sec)\n",
      "INFO:tensorflow:global_step/sec: 275.737\n",
      "INFO:tensorflow:loss = 0.87886477, step = 400 (0.363 sec)\n",
      "INFO:tensorflow:global_step/sec: 227.59\n",
      "INFO:tensorflow:loss = 0.8232589, step = 500 (0.440 sec)\n",
      "INFO:tensorflow:global_step/sec: 204.675\n",
      "INFO:tensorflow:loss = 0.7890068, step = 600 (0.487 sec)\n",
      "INFO:tensorflow:global_step/sec: 248.593\n",
      "INFO:tensorflow:loss = 0.7702997, step = 700 (0.403 sec)\n",
      "INFO:tensorflow:global_step/sec: 203.594\n",
      "INFO:tensorflow:loss = 0.72305846, step = 800 (0.492 sec)\n",
      "INFO:tensorflow:global_step/sec: 275.242\n",
      "INFO:tensorflow:loss = 0.6980188, step = 900 (0.363 sec)\n",
      "INFO:tensorflow:global_step/sec: 202.12\n",
      "INFO:tensorflow:loss = 0.67655766, step = 1000 (0.495 sec)\n",
      "INFO:tensorflow:global_step/sec: 221.545\n",
      "INFO:tensorflow:loss = 0.65379363, step = 1100 (0.452 sec)\n",
      "INFO:tensorflow:global_step/sec: 274.63\n",
      "INFO:tensorflow:loss = 0.6299099, step = 1200 (0.364 sec)\n",
      "INFO:tensorflow:global_step/sec: 220.87\n",
      "INFO:tensorflow:loss = 0.61228526, step = 1300 (0.453 sec)\n",
      "INFO:tensorflow:global_step/sec: 203.154\n",
      "INFO:tensorflow:loss = 0.60207474, step = 1400 (0.492 sec)\n",
      "INFO:tensorflow:global_step/sec: 237.028\n",
      "INFO:tensorflow:loss = 0.59205, step = 1500 (0.421 sec)\n",
      "INFO:tensorflow:global_step/sec: 189.512\n",
      "INFO:tensorflow:loss = 0.58204865, step = 1600 (0.533 sec)\n",
      "INFO:tensorflow:global_step/sec: 250.033\n",
      "INFO:tensorflow:loss = 0.5607972, step = 1700 (0.396 sec)\n",
      "INFO:tensorflow:global_step/sec: 192.876\n",
      "INFO:tensorflow:loss = 0.5584292, step = 1800 (0.519 sec)\n",
      "INFO:tensorflow:global_step/sec: 214.613\n",
      "INFO:tensorflow:loss = 0.54270685, step = 1900 (0.464 sec)\n",
      "INFO:tensorflow:global_step/sec: 253.108\n",
      "INFO:tensorflow:loss = 0.5287832, step = 2000 (0.395 sec)\n",
      "INFO:tensorflow:global_step/sec: 199.31\n",
      "INFO:tensorflow:loss = 0.5235692, step = 2100 (0.503 sec)\n",
      "INFO:tensorflow:global_step/sec: 227.95\n",
      "INFO:tensorflow:loss = 0.5269264, step = 2200 (0.440 sec)\n",
      "INFO:tensorflow:global_step/sec: 208.549\n",
      "INFO:tensorflow:loss = 0.5068967, step = 2300 (0.483 sec)\n",
      "INFO:tensorflow:global_step/sec: 212.003\n",
      "INFO:tensorflow:loss = 0.49097025, step = 2400 (0.467 sec)\n",
      "INFO:tensorflow:global_step/sec: 258.458\n",
      "INFO:tensorflow:loss = 0.48525646, step = 2500 (0.388 sec)\n",
      "INFO:tensorflow:global_step/sec: 195.957\n",
      "INFO:tensorflow:loss = 0.4803877, step = 2600 (0.510 sec)\n",
      "INFO:tensorflow:global_step/sec: 191.226\n",
      "INFO:tensorflow:loss = 0.46854424, step = 2700 (0.524 sec)\n",
      "INFO:tensorflow:global_step/sec: 223.331\n",
      "INFO:tensorflow:loss = 0.46562833, step = 2800 (0.453 sec)\n",
      "INFO:tensorflow:global_step/sec: 156.496\n",
      "INFO:tensorflow:loss = 0.4564211, step = 2900 (0.633 sec)\n",
      "INFO:tensorflow:global_step/sec: 259.522\n",
      "INFO:tensorflow:loss = 0.45767623, step = 3000 (0.387 sec)\n",
      "INFO:tensorflow:global_step/sec: 198.063\n",
      "INFO:tensorflow:loss = 0.43914995, step = 3100 (0.502 sec)\n",
      "INFO:tensorflow:global_step/sec: 217.21\n",
      "INFO:tensorflow:loss = 0.44615948, step = 3200 (0.461 sec)\n",
      "INFO:tensorflow:global_step/sec: 271.011\n",
      "INFO:tensorflow:loss = 0.4323113, step = 3300 (0.368 sec)\n",
      "INFO:tensorflow:global_step/sec: 217.096\n",
      "INFO:tensorflow:loss = 0.43936282, step = 3400 (0.468 sec)\n",
      "INFO:tensorflow:global_step/sec: 215.436\n",
      "INFO:tensorflow:loss = 0.42616078, step = 3500 (0.457 sec)\n",
      "INFO:tensorflow:global_step/sec: 229.147\n",
      "INFO:tensorflow:loss = 0.42308882, step = 3600 (0.436 sec)\n",
      "INFO:tensorflow:global_step/sec: 217.56\n",
      "INFO:tensorflow:loss = 0.4041404, step = 3700 (0.459 sec)\n",
      "INFO:tensorflow:global_step/sec: 268.268\n",
      "INFO:tensorflow:loss = 0.3943305, step = 3800 (0.373 sec)\n",
      "INFO:tensorflow:global_step/sec: 230.274\n",
      "INFO:tensorflow:loss = 0.4040025, step = 3900 (0.434 sec)\n",
      "INFO:tensorflow:global_step/sec: 219.796\n",
      "INFO:tensorflow:loss = 0.39777774, step = 4000 (0.456 sec)\n",
      "INFO:tensorflow:global_step/sec: 278.894\n",
      "INFO:tensorflow:loss = 0.40186298, step = 4100 (0.357 sec)\n",
      "INFO:tensorflow:global_step/sec: 234.958\n",
      "INFO:tensorflow:loss = 0.39777353, step = 4200 (0.427 sec)\n",
      "INFO:tensorflow:global_step/sec: 198.728\n",
      "INFO:tensorflow:loss = 0.3882418, step = 4300 (0.503 sec)\n",
      "INFO:tensorflow:global_step/sec: 278.754\n",
      "INFO:tensorflow:loss = 0.38164526, step = 4400 (0.359 sec)\n",
      "INFO:tensorflow:global_step/sec: 221.715\n",
      "INFO:tensorflow:loss = 0.3844813, step = 4500 (0.451 sec)\n",
      "INFO:tensorflow:global_step/sec: 228.253\n",
      "INFO:tensorflow:loss = 0.3781566, step = 4600 (0.440 sec)\n",
      "INFO:tensorflow:global_step/sec: 286.969\n",
      "INFO:tensorflow:loss = 0.36447802, step = 4700 (0.347 sec)\n",
      "INFO:tensorflow:global_step/sec: 223.66\n",
      "INFO:tensorflow:loss = 0.3675707, step = 4800 (0.447 sec)\n",
      "INFO:tensorflow:global_step/sec: 237.511\n",
      "INFO:tensorflow:loss = 0.3638779, step = 4900 (0.422 sec)\n",
      "INFO:tensorflow:Calling checkpoint listeners before saving checkpoint 5000...\n",
      "INFO:tensorflow:Saving checkpoints for 5000 into /tmp/tmp0zyb7ayi/model.ckpt.\n",
      "INFO:tensorflow:Calling checkpoint listeners after saving checkpoint 5000...\n",
      "INFO:tensorflow:Loss for final step: 0.3576944.\n"
     ]
    },
    {
     "data": {
      "text/plain": [
       "<tensorflow_estimator.python.estimator.canned.dnn.DNNClassifierV2 at 0x7f2968ec8d68>"
      ]
     },
     "execution_count": 16,
     "metadata": {},
     "output_type": "execute_result"
    }
   ],
   "source": [
    "# 4) 훈련, 평가, 예측\n",
    "# 위에서(3번) Estimator object를 생성했기 때문에 훈련, 평가, 예측이 가능해짐\n",
    "\n",
    "# 모델 훈련(학습)\n",
    "classifier.train(\n",
    "    input_fn=lambda: input_fn(train, train_y, training=True),\n",
    "    steps=5000)"
   ]
  },
  {
   "cell_type": "code",
   "execution_count": 17,
   "metadata": {
    "scrolled": true
   },
   "outputs": [
    {
     "name": "stdout",
     "output_type": "stream",
     "text": [
      "INFO:tensorflow:Calling model_fn.\n",
      "WARNING:tensorflow:Layer dnn is casting an input tensor from dtype float64 to the layer's dtype of float32, which is new behavior in TensorFlow 2.  The layer has dtype float32 because its dtype defaults to floatx.\n",
      "\n",
      "If you intended to run this layer in float32, you can safely ignore this warning. If in doubt, this warning is likely only an issue if you are porting a TensorFlow 1.X model to TensorFlow 2.\n",
      "\n",
      "To change all layers to have dtype float64 by default, call `tf.keras.backend.set_floatx('float64')`. To change just this layer, pass dtype='float64' to the layer constructor. If you are the author of this layer, you can disable autocasting by passing autocast=False to the base Layer constructor.\n",
      "\n",
      "INFO:tensorflow:Done calling model_fn.\n",
      "INFO:tensorflow:Starting evaluation at 2020-04-21T15:20:49Z\n",
      "INFO:tensorflow:Graph was finalized.\n",
      "INFO:tensorflow:Restoring parameters from /tmp/tmp0zyb7ayi/model.ckpt-5000\n",
      "INFO:tensorflow:Running local_init_op.\n",
      "INFO:tensorflow:Done running local_init_op.\n",
      "INFO:tensorflow:Inference Time : 0.43787s\n",
      "INFO:tensorflow:Finished evaluation at 2020-04-21-15:20:50\n",
      "INFO:tensorflow:Saving dict for global step 5000: accuracy = 0.93333334, average_loss = 0.41655973, global_step = 5000, loss = 0.41655973\n",
      "INFO:tensorflow:Saving 'checkpoint_path' summary for global step 5000: /tmp/tmp0zyb7ayi/model.ckpt-5000\n",
      "\n",
      "Test set accuracy: 0.933\n",
      "\n"
     ]
    }
   ],
   "source": [
    "# 훈련된 모델 평가\n",
    "# 성능에 대한 통계를 얻기 위해 test_data를 통해 학습된 모델의 정확성 평가\n",
    "eval_result = classifier.evaluate(\n",
    "    input_fn=lambda: input_fn(test, test_y, training=False))\n",
    "\n",
    "print('\\nTest set accuracy: {accuracy:0.3f}\\n'.format(**eval_result)) # 93.3%의 정확도!"
   ]
  },
  {
   "cell_type": "code",
   "execution_count": 30,
   "metadata": {},
   "outputs": [
    {
     "name": "stdout",
     "output_type": "stream",
     "text": [
      "<generator object Estimator.predict at 0x7f2967754eb8>\n"
     ]
    }
   ],
   "source": [
    "# 훈련된 모델에서 예측하기\n",
    "# 평가 결과 우수한 훈련 모델이 생성됨(93.3%의 정확도)\n",
    "# 훈련되지 않은 모델을 사용해 Iris 꽃의 종을 예측 할 수 있음\n",
    "# Generate predictions from the model\n",
    "expected = ['Setosa', 'Versicolor', 'Virginica']\n",
    "predict_x = {\n",
    "    'SepalLength': [5.1, 5.9, 6.9],\n",
    "    'SepalWidth': [3.3, 3.0, 3.1],\n",
    "    'PetalLength': [1.7, 4.2, 5.4],\n",
    "    'PetalWidth': [0.5, 1.5, 2.1],\n",
    "}\n",
    "\n",
    "def input_fn(features, batch_size=256):\n",
    "    \"\"\"An input function for prediction.\"\"\"\n",
    "    # Convert the inputs to a Dataset without labels.\n",
    "    return tf.data.Dataset.from_tensor_slices(dict(features)).batch(batch_size)\n",
    "\n",
    "predictions = classifier.predict(input_fn=lambda: input_fn(predict_x))\n",
    "print(predictions)"
   ]
  },
  {
   "cell_type": "code",
   "execution_count": 31,
   "metadata": {},
   "outputs": [
    {
     "name": "stdout",
     "output_type": "stream",
     "text": [
      "INFO:tensorflow:Calling model_fn.\n",
      "INFO:tensorflow:Done calling model_fn.\n",
      "INFO:tensorflow:Graph was finalized.\n",
      "INFO:tensorflow:Restoring parameters from /tmp/tmp0zyb7ayi/model.ckpt-5000\n",
      "INFO:tensorflow:Running local_init_op.\n",
      "INFO:tensorflow:Done running local_init_op.\n",
      "Prediction is \"Setosa\" (87.6%), expected \"Setosa\"\n",
      "Prediction is \"Versicolor\" (56.0%), expected \"Versicolor\"\n",
      "Prediction is \"Virginica\" (59.5%), expected \"Virginica\"\n"
     ]
    }
   ],
   "source": [
    "# 위의 예측 데이터 3가지가 무슨 종류인지 결과 내놓음\n",
    "for pred_dict, expec in zip(predictions, expected):\n",
    "    class_id = pred_dict['class_ids'][0]\n",
    "    probability = pred_dict['probabilities'][class_id]\n",
    "\n",
    "    print('Prediction is \"{}\" ({:.1f}%), expected \"{}\"'.format(\n",
    "        SPECIES[class_id], 100 * probability, expec))"
   ]
  }
 ],
 "metadata": {
  "kernelspec": {
   "display_name": "Python 3",
   "language": "python",
   "name": "python3"
  },
  "language_info": {
   "codemirror_mode": {
    "name": "ipython",
    "version": 3
   },
   "file_extension": ".py",
   "mimetype": "text/x-python",
   "name": "python",
   "nbconvert_exporter": "python",
   "pygments_lexer": "ipython3",
   "version": "3.6.10"
  }
 },
 "nbformat": 4,
 "nbformat_minor": 4
}
